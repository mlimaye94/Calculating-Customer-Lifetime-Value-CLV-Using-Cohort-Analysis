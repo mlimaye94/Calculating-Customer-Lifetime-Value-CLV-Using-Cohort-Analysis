{
 "cells": [
  {
   "cell_type": "markdown",
   "metadata": {},
   "source": [
    "# Step 1: Understand the dataset"
   ]
  },
  {
   "cell_type": "code",
   "execution_count": 1,
   "metadata": {},
   "outputs": [
    {
     "name": "stdout",
     "output_type": "stream",
     "text": [
      "   TransactionID TransactionDate  CustomerID  Amount\n",
      "0              1        9/4/2012           1   20.26\n",
      "1              2       5/15/2012           2   10.87\n",
      "2              3       5/23/2014           2    2.21\n"
     ]
    }
   ],
   "source": [
    "#Importing all the ncessary libraries \n",
    "import pandas as pd\n",
    "import matplotlib.pyplot as plt\n",
    "import numpy as np\n",
    "\n",
    "#Reading data from file\n",
    "Data_CLV = pd.read_csv(\"CustomerRecords.csv\")\n",
    "print(Data_CLV.head(3))"
   ]
  },
  {
   "cell_type": "code",
   "execution_count": 2,
   "metadata": {},
   "outputs": [
    {
     "name": "stdout",
     "output_type": "stream",
     "text": [
      "TransactionID      0\n",
      "TransactionDate    0\n",
      "CustomerID         0\n",
      "Amount             0\n",
      "dtype: int64\n"
     ]
    }
   ],
   "source": [
    "#1. Are there any missing values in the dataset?\n",
    "print(Data_CLV.isnull().sum())"
   ]
  },
  {
   "cell_type": "markdown",
   "metadata": {},
   "source": [
    "As the above records suggests, there are no missing values"
   ]
  },
  {
   "cell_type": "code",
   "execution_count": 3,
   "metadata": {},
   "outputs": [
    {
     "name": "stdout",
     "output_type": "stream",
     "text": [
      "Range of dates in the dataset\n",
      "Minimum Date: 1/1/2011\n",
      "Maximun Date: 9/9/2015\n"
     ]
    }
   ],
   "source": [
    "#2. What is the range of dates in the dataset?\n",
    "\n",
    "print(\"Range of dates in the dataset\")\n",
    "min_date = Data_CLV['TransactionDate'].min()\n",
    "print(\"Minimum Date: \" + str(min_date))\n",
    "max_date = Data_CLV['TransactionDate'].max()\n",
    "print(\"Maximun Date: \" + str(max_date))"
   ]
  },
  {
   "cell_type": "code",
   "execution_count": 4,
   "metadata": {},
   "outputs": [
    {
     "name": "stdout",
     "output_type": "stream",
     "text": [
      "Total unique customers in the dataset are 1000\n"
     ]
    }
   ],
   "source": [
    "#3. How many unique customers are there in the dataset?\n",
    "\n",
    "CustomerCount = max_date = Data_CLV['CustomerID'].nunique()\n",
    "print(\"Total unique customers in the dataset are \" + str(CustomerCount))"
   ]
  },
  {
   "cell_type": "code",
   "execution_count": 5,
   "metadata": {},
   "outputs": [
    {
     "name": "stdout",
     "output_type": "stream",
     "text": [
      "Variance of Amount Field: 1499.54\n",
      "-----------------------------------------------------------------\n",
      "Min, Max, and Standard Deviations of Amount Field: \n"
     ]
    },
    {
     "data": {
      "text/html": [
       "<div>\n",
       "<style scoped>\n",
       "    .dataframe tbody tr th:only-of-type {\n",
       "        vertical-align: middle;\n",
       "    }\n",
       "\n",
       "    .dataframe tbody tr th {\n",
       "        vertical-align: top;\n",
       "    }\n",
       "\n",
       "    .dataframe thead th {\n",
       "        text-align: right;\n",
       "    }\n",
       "</style>\n",
       "<table border=\"1\" class=\"dataframe\">\n",
       "  <thead>\n",
       "    <tr style=\"text-align: right;\">\n",
       "      <th></th>\n",
       "      <th>Amount</th>\n",
       "    </tr>\n",
       "  </thead>\n",
       "  <tbody>\n",
       "    <tr>\n",
       "      <th>count</th>\n",
       "      <td>4186.00</td>\n",
       "    </tr>\n",
       "    <tr>\n",
       "      <th>mean</th>\n",
       "      <td>9.03</td>\n",
       "    </tr>\n",
       "    <tr>\n",
       "      <th>std</th>\n",
       "      <td>38.72</td>\n",
       "    </tr>\n",
       "    <tr>\n",
       "      <th>min</th>\n",
       "      <td>-1.00</td>\n",
       "    </tr>\n",
       "    <tr>\n",
       "      <th>25%</th>\n",
       "      <td>3.31</td>\n",
       "    </tr>\n",
       "    <tr>\n",
       "      <th>50%</th>\n",
       "      <td>6.88</td>\n",
       "    </tr>\n",
       "    <tr>\n",
       "      <th>75%</th>\n",
       "      <td>11.69</td>\n",
       "    </tr>\n",
       "    <tr>\n",
       "      <th>max</th>\n",
       "      <td>2033.00</td>\n",
       "    </tr>\n",
       "  </tbody>\n",
       "</table>\n",
       "</div>"
      ],
      "text/plain": [
       "        Amount\n",
       "count  4186.00\n",
       "mean      9.03\n",
       "std      38.72\n",
       "min      -1.00\n",
       "25%       3.31\n",
       "50%       6.88\n",
       "75%      11.69\n",
       "max    2033.00"
      ]
     },
     "execution_count": 5,
     "metadata": {},
     "output_type": "execute_result"
    }
   ],
   "source": [
    "#4. Profile the data to give the standard descriptive statistics for the Amount field. \n",
    "# What is the min, max, variance, and standard deviations?\n",
    "\n",
    "print(\"Variance of Amount Field: \" + str(np.round(Data_CLV['Amount'].var(),2)))\n",
    "print('-----------------------------------------------------------------')\n",
    "print(\"Min, Max, and Standard Deviations of Amount Field: \")\n",
    "np.round(Data_CLV[['Amount']].describe(),2)"
   ]
  },
  {
   "cell_type": "code",
   "execution_count": 6,
   "metadata": {},
   "outputs": [
    {
     "data": {
      "image/png": "[encoded data removed]",
      "text/plain": [
       "<Figure size 432x288 with 1 Axes>"
      ]
     },
     "metadata": {
      "needs_background": "light"
     },
     "output_type": "display_data"
    },
    {
     "data": {
      "text/plain": [
       "<Figure size 432x288 with 0 Axes>"
      ]
     },
     "metadata": {},
     "output_type": "display_data"
    }
   ],
   "source": [
    "#5. Do transaction amounts in general increase over time (perhaps due to inflation)?\n",
    "\n",
    "Data_CLV['TransacionYear'] = pd.DatetimeIndex(Data_CLV['TransactionDate']).year\n",
    "\n",
    "#Plotting a scatter plot of TransacionYear vs Amount to identify the trend\n",
    "plt.scatter(Data_CLV['TransacionYear'], Data_CLV['Amount'], s=25, c='blue')\n",
    "plt.xlabel('Transaction Year')\n",
    "plt.ylabel('Amount')\n",
    "plt.title(\"Transaction Year VS Amount\")\n",
    "plt.show()\n",
    "plt.savefig('tempffile.png')"
   ]
  },
  {
   "cell_type": "markdown",
   "metadata": {},
   "source": [
    "Except some of the outlier transactions, the amount has not incrased with time"
   ]
  },
  {
   "cell_type": "markdown",
   "metadata": {},
   "source": [
    "# Step 2: Explore the dataset"
   ]
  },
  {
   "cell_type": "code",
   "execution_count": 7,
   "metadata": {},
   "outputs": [
    {
     "data": {
      "image/png": "[encoded data removed]",
      "text/plain": [
       "<Figure size 432x288 with 1 Axes>"
      ]
     },
     "metadata": {
      "needs_background": "light"
     },
     "output_type": "display_data"
    },
    {
     "name": "stdout",
     "output_type": "stream",
     "text": [
      "As the boxplot shows there are few outliers as well as few negative values which we can identify and delete\n"
     ]
    }
   ],
   "source": [
    "# 1. Are there any outliers? \n",
    "plt.boxplot(Data_CLV['Amount'],1 ,showmeans = True, vert = False)\n",
    "plt.title(\"Boxplot of Amount\")\n",
    "plt.grid()\n",
    "plt.show()\n",
    "\n",
    "print(\"As the boxplot shows there are few outliers as well as few negative values which we can identify and delete\")"
   ]
  },
  {
   "cell_type": "code",
   "execution_count": 8,
   "metadata": {},
   "outputs": [
    {
     "name": "stdout",
     "output_type": "stream",
     "text": [
      "We can identify the outliers as the those  above 3 SD and below zero i.e. negative amount values\n",
      "Outliers in the Data: \n"
     ]
    },
    {
     "data": {
      "text/html": [
       "<div>\n",
       "<style scoped>\n",
       "    .dataframe tbody tr th:only-of-type {\n",
       "        vertical-align: middle;\n",
       "    }\n",
       "\n",
       "    .dataframe tbody tr th {\n",
       "        vertical-align: top;\n",
       "    }\n",
       "\n",
       "    .dataframe thead th {\n",
       "        text-align: right;\n",
       "    }\n",
       "</style>\n",
       "<table border=\"1\" class=\"dataframe\">\n",
       "  <thead>\n",
       "    <tr style=\"text-align: right;\">\n",
       "      <th></th>\n",
       "      <th>TransactionID</th>\n",
       "      <th>TransactionDate</th>\n",
       "      <th>CustomerID</th>\n",
       "      <th>Amount</th>\n",
       "      <th>TransacionYear</th>\n",
       "      <th>Outlier</th>\n",
       "    </tr>\n",
       "  </thead>\n",
       "  <tbody>\n",
       "    <tr>\n",
       "      <th>23</th>\n",
       "      <td>24</td>\n",
       "      <td>10/7/2011</td>\n",
       "      <td>7</td>\n",
       "      <td>1003.0</td>\n",
       "      <td>2011</td>\n",
       "      <td>True</td>\n",
       "    </tr>\n",
       "    <tr>\n",
       "      <th>49</th>\n",
       "      <td>50</td>\n",
       "      <td>5/12/2012</td>\n",
       "      <td>13</td>\n",
       "      <td>-1.0</td>\n",
       "      <td>2012</td>\n",
       "      <td>True</td>\n",
       "    </tr>\n",
       "    <tr>\n",
       "      <th>211</th>\n",
       "      <td>212</td>\n",
       "      <td>5/14/2014</td>\n",
       "      <td>54</td>\n",
       "      <td>1027.0</td>\n",
       "      <td>2014</td>\n",
       "      <td>True</td>\n",
       "    </tr>\n",
       "    <tr>\n",
       "      <th>3326</th>\n",
       "      <td>3327</td>\n",
       "      <td>1/16/2014</td>\n",
       "      <td>811</td>\n",
       "      <td>-1.0</td>\n",
       "      <td>2014</td>\n",
       "      <td>True</td>\n",
       "    </tr>\n",
       "    <tr>\n",
       "      <th>4177</th>\n",
       "      <td>4178</td>\n",
       "      <td>8/13/2012</td>\n",
       "      <td>1000</td>\n",
       "      <td>2033.0</td>\n",
       "      <td>2012</td>\n",
       "      <td>True</td>\n",
       "    </tr>\n",
       "  </tbody>\n",
       "</table>\n",
       "</div>"
      ],
      "text/plain": [
       "      TransactionID TransactionDate  CustomerID  Amount  TransacionYear  \\\n",
       "23               24       10/7/2011           7  1003.0            2011   \n",
       "49               50       5/12/2012          13    -1.0            2012   \n",
       "211             212       5/14/2014          54  1027.0            2014   \n",
       "3326           3327       1/16/2014         811    -1.0            2014   \n",
       "4177           4178       8/13/2012        1000  2033.0            2012   \n",
       "\n",
       "      Outlier  \n",
       "23       True  \n",
       "49       True  \n",
       "211      True  \n",
       "3326     True  \n",
       "4177     True  "
      ]
     },
     "execution_count": 8,
     "metadata": {},
     "output_type": "execute_result"
    }
   ],
   "source": [
    "#Identifying the outliers\n",
    "print(\"We can identify the outliers as the those  above 3 SD and below zero i.e. negative amount values\")\n",
    "Data_CLV['Outlier'] = np.logical_or(Data_CLV['Amount']<0, (np.logical_or((Data_CLV['Amount'] <= (Data_CLV['Amount'].mean() - (Data_CLV['Amount'].std() * 3))),\n",
    "                                    (Data_CLV['Amount'] >= (Data_CLV['Amount'].mean() + (Data_CLV['Amount'].std() * 3))))))\n",
    "\n",
    "#Display of 5 outliers in the data\n",
    "print(\"Outliers in the Data: \")\n",
    "Data_CLV[Data_CLV[\"Outlier\"]==True]"
   ]
  },
  {
   "cell_type": "code",
   "execution_count": 9,
   "metadata": {},
   "outputs": [
    {
     "name": "stdout",
     "output_type": "stream",
     "text": [
      "The boxplot after dropping the outliers is as follows:\n"
     ]
    },
    {
     "data": {
      "image/png": "[encoded data removed]",
      "text/plain": [
       "<Figure size 432x288 with 1 Axes>"
      ]
     },
     "metadata": {
      "needs_background": "light"
     },
     "output_type": "display_data"
    }
   ],
   "source": [
    "#2. If so how would you treat them?\n",
    "\n",
    "#Dropping the outlier rows\n",
    "Data_CLV.drop(Data_CLV[Data_CLV['Outlier'] == True].index, inplace=True)\n",
    "\n",
    "#Dropping the column Outlier\n",
    "del Data_CLV['Outlier']\n",
    "\n",
    "#Box plot after removing the Outliers\n",
    "plt.title(\"Boxplot of Amount after removing the potential Outliers\")\n",
    "plt.boxplot(Data_CLV['Amount'],1, showmeans = True, vert = False)\n",
    "\n",
    "print(\"The boxplot after dropping the outliers is as follows:\")\n",
    "plt.grid()\n",
    "plt.show()"
   ]
  },
  {
   "cell_type": "markdown",
   "metadata": {},
   "source": [
    "# Step 3: Determine origin year of customers"
   ]
  },
  {
   "cell_type": "code",
   "execution_count": 10,
   "metadata": {},
   "outputs": [
    {
     "data": {
      "text/html": [
       "<div>\n",
       "<style scoped>\n",
       "    .dataframe tbody tr th:only-of-type {\n",
       "        vertical-align: middle;\n",
       "    }\n",
       "\n",
       "    .dataframe tbody tr th {\n",
       "        vertical-align: top;\n",
       "    }\n",
       "\n",
       "    .dataframe thead th {\n",
       "        text-align: right;\n",
       "    }\n",
       "</style>\n",
       "<table border=\"1\" class=\"dataframe\">\n",
       "  <thead>\n",
       "    <tr style=\"text-align: right;\">\n",
       "      <th></th>\n",
       "      <th>TransactionID</th>\n",
       "      <th>TransactionDate</th>\n",
       "      <th>CustomerID</th>\n",
       "      <th>Amount</th>\n",
       "      <th>TransacionYear</th>\n",
       "    </tr>\n",
       "  </thead>\n",
       "  <tbody>\n",
       "    <tr>\n",
       "      <th>0</th>\n",
       "      <td>1</td>\n",
       "      <td>9/4/2012</td>\n",
       "      <td>1</td>\n",
       "      <td>20.26</td>\n",
       "      <td>2012</td>\n",
       "    </tr>\n",
       "    <tr>\n",
       "      <th>1</th>\n",
       "      <td>2</td>\n",
       "      <td>5/15/2012</td>\n",
       "      <td>2</td>\n",
       "      <td>10.87</td>\n",
       "      <td>2012</td>\n",
       "    </tr>\n",
       "    <tr>\n",
       "      <th>2</th>\n",
       "      <td>3</td>\n",
       "      <td>5/23/2014</td>\n",
       "      <td>2</td>\n",
       "      <td>2.21</td>\n",
       "      <td>2014</td>\n",
       "    </tr>\n",
       "  </tbody>\n",
       "</table>\n",
       "</div>"
      ],
      "text/plain": [
       "   TransactionID TransactionDate  CustomerID  Amount  TransacionYear\n",
       "0              1        9/4/2012           1   20.26            2012\n",
       "1              2       5/15/2012           2   10.87            2012\n",
       "2              3       5/23/2014           2    2.21            2014"
      ]
     },
     "execution_count": 10,
     "metadata": {},
     "output_type": "execute_result"
    }
   ],
   "source": [
    "Data_CLV.head(3)"
   ]
  },
  {
   "cell_type": "code",
   "execution_count": 11,
   "metadata": {},
   "outputs": [
    {
     "name": "stdout",
     "output_type": "stream",
     "text": [
      "Identifying the customer origin year for all transactions\n"
     ]
    },
    {
     "data": {
      "text/html": [
       "<div>\n",
       "<style scoped>\n",
       "    .dataframe tbody tr th:only-of-type {\n",
       "        vertical-align: middle;\n",
       "    }\n",
       "\n",
       "    .dataframe tbody tr th {\n",
       "        vertical-align: top;\n",
       "    }\n",
       "\n",
       "    .dataframe thead th {\n",
       "        text-align: right;\n",
       "    }\n",
       "</style>\n",
       "<table border=\"1\" class=\"dataframe\">\n",
       "  <thead>\n",
       "    <tr style=\"text-align: right;\">\n",
       "      <th></th>\n",
       "      <th>TransactionID</th>\n",
       "      <th>TransactionDate</th>\n",
       "      <th>CustomerID</th>\n",
       "      <th>Amount</th>\n",
       "      <th>TransacionYear</th>\n",
       "      <th>Cust_Origin</th>\n",
       "    </tr>\n",
       "  </thead>\n",
       "  <tbody>\n",
       "    <tr>\n",
       "      <th>0</th>\n",
       "      <td>1</td>\n",
       "      <td>2012-09-04</td>\n",
       "      <td>1</td>\n",
       "      <td>20.26</td>\n",
       "      <td>2012</td>\n",
       "      <td>2012</td>\n",
       "    </tr>\n",
       "    <tr>\n",
       "      <th>1</th>\n",
       "      <td>2</td>\n",
       "      <td>2012-05-15</td>\n",
       "      <td>2</td>\n",
       "      <td>10.87</td>\n",
       "      <td>2012</td>\n",
       "      <td>2012</td>\n",
       "    </tr>\n",
       "    <tr>\n",
       "      <th>2</th>\n",
       "      <td>3</td>\n",
       "      <td>2014-05-23</td>\n",
       "      <td>2</td>\n",
       "      <td>2.21</td>\n",
       "      <td>2014</td>\n",
       "      <td>2012</td>\n",
       "    </tr>\n",
       "  </tbody>\n",
       "</table>\n",
       "</div>"
      ],
      "text/plain": [
       "   TransactionID TransactionDate  CustomerID  Amount  TransacionYear  \\\n",
       "0              1      2012-09-04           1   20.26            2012   \n",
       "1              2      2012-05-15           2   10.87            2012   \n",
       "2              3      2014-05-23           2    2.21            2014   \n",
       "\n",
       "   Cust_Origin  \n",
       "0         2012  \n",
       "1         2012  \n",
       "2         2012  "
      ]
     },
     "execution_count": 11,
     "metadata": {},
     "output_type": "execute_result"
    }
   ],
   "source": [
    "#Identifying the origin of the customer by grouping customer ID\n",
    "\n",
    "Cust_OriginYear = Data_CLV.groupby('CustomerID')[['TransacionYear']].min()\n",
    "Data_CLV = pd.merge(Data_CLV,Cust_OriginYear, on = 'CustomerID')\n",
    "Data_CLV = Data_CLV.rename(columns={\"TransacionYear_x\":\"TransacionYear\", \"TransacionYear_y\":\"Cust_Origin\"})\n",
    "\n",
    "#Converting Transaction Date to date time format\n",
    "Data_CLV['TransactionDate'] = pd.to_datetime(Data_CLV['TransactionDate'])\n",
    "\n",
    "print(\"Identifying the customer origin year for all transactions\")\n",
    "Data_CLV.head(3)"
   ]
  },
  {
   "cell_type": "markdown",
   "metadata": {},
   "source": [
    "# Step 4: Calculate cumulative transaction amounts"
   ]
  },
  {
   "cell_type": "code",
   "execution_count": 12,
   "metadata": {},
   "outputs": [
    {
     "name": "stdout",
     "output_type": "stream",
     "text": [
      "The cumulative amount table is as follows: \n"
     ]
    },
    {
     "data": {
      "text/html": [
       "<div>\n",
       "<style scoped>\n",
       "    .dataframe tbody tr th:only-of-type {\n",
       "        vertical-align: middle;\n",
       "    }\n",
       "\n",
       "    .dataframe tbody tr th {\n",
       "        vertical-align: top;\n",
       "    }\n",
       "\n",
       "    .dataframe thead th {\n",
       "        text-align: right;\n",
       "    }\n",
       "</style>\n",
       "<table border=\"1\" class=\"dataframe\">\n",
       "  <thead>\n",
       "    <tr style=\"text-align: right;\">\n",
       "      <th></th>\n",
       "      <th>12</th>\n",
       "      <th>24</th>\n",
       "      <th>36</th>\n",
       "      <th>48</th>\n",
       "      <th>60</th>\n",
       "      <th>72</th>\n",
       "    </tr>\n",
       "    <tr>\n",
       "      <th>Origin</th>\n",
       "      <th></th>\n",
       "      <th></th>\n",
       "      <th></th>\n",
       "      <th></th>\n",
       "      <th></th>\n",
       "      <th></th>\n",
       "    </tr>\n",
       "  </thead>\n",
       "  <tbody>\n",
       "    <tr>\n",
       "      <th>2010-01-01 - 2010-12-31</th>\n",
       "      <td>2259.67</td>\n",
       "      <td>3614.78</td>\n",
       "      <td>5274.81</td>\n",
       "      <td>6632.37</td>\n",
       "      <td>7930.69</td>\n",
       "      <td>8964.49</td>\n",
       "    </tr>\n",
       "    <tr>\n",
       "      <th>2011-01-01 - 2011-12-31</th>\n",
       "      <td>2238.46</td>\n",
       "      <td>3757.90</td>\n",
       "      <td>5465.99</td>\n",
       "      <td>6703.11</td>\n",
       "      <td>7862.24</td>\n",
       "      <td>0.00</td>\n",
       "    </tr>\n",
       "    <tr>\n",
       "      <th>2012-01-01 - 2012-12-31</th>\n",
       "      <td>2181.35</td>\n",
       "      <td>3874.69</td>\n",
       "      <td>5226.86</td>\n",
       "      <td>6501.85</td>\n",
       "      <td>0.00</td>\n",
       "      <td>0.00</td>\n",
       "    </tr>\n",
       "    <tr>\n",
       "      <th>2013-01-01 - 2013-12-31</th>\n",
       "      <td>2179.85</td>\n",
       "      <td>3609.81</td>\n",
       "      <td>5227.75</td>\n",
       "      <td>0.00</td>\n",
       "      <td>0.00</td>\n",
       "      <td>0.00</td>\n",
       "    </tr>\n",
       "    <tr>\n",
       "      <th>2014-01-01 - 2014-12-31</th>\n",
       "      <td>1830.85</td>\n",
       "      <td>3262.05</td>\n",
       "      <td>0.00</td>\n",
       "      <td>0.00</td>\n",
       "      <td>0.00</td>\n",
       "      <td>0.00</td>\n",
       "    </tr>\n",
       "    <tr>\n",
       "      <th>2015-01-01 - 2015-12-31</th>\n",
       "      <td>1912.17</td>\n",
       "      <td>0.00</td>\n",
       "      <td>0.00</td>\n",
       "      <td>0.00</td>\n",
       "      <td>0.00</td>\n",
       "      <td>0.00</td>\n",
       "    </tr>\n",
       "  </tbody>\n",
       "</table>\n",
       "</div>"
      ],
      "text/plain": [
       "                              12       24       36       48       60       72\n",
       "Origin                                                                       \n",
       "2010-01-01 - 2010-12-31  2259.67  3614.78  5274.81  6632.37  7930.69  8964.49\n",
       "2011-01-01 - 2011-12-31  2238.46  3757.90  5465.99  6703.11  7862.24     0.00\n",
       "2012-01-01 - 2012-12-31  2181.35  3874.69  5226.86  6501.85     0.00     0.00\n",
       "2013-01-01 - 2013-12-31  2179.85  3609.81  5227.75     0.00     0.00     0.00\n",
       "2014-01-01 - 2014-12-31  1830.85  3262.05     0.00     0.00     0.00     0.00\n",
       "2015-01-01 - 2015-12-31  1912.17     0.00     0.00     0.00     0.00     0.00"
      ]
     },
     "execution_count": 12,
     "metadata": {},
     "output_type": "execute_result"
    }
   ],
   "source": [
    "#Calcualting cumultaive amount value for customers orignated in all five years  \n",
    "\n",
    "DataCust_2010 = Data_CLV[Data_CLV['Cust_Origin'] == 2010]\n",
    "DataCust_2011 = Data_CLV[Data_CLV['Cust_Origin'] == 2011]\n",
    "DataCust_2012 = Data_CLV[Data_CLV['Cust_Origin'] == 2012]\n",
    "DataCust_2013 = Data_CLV[Data_CLV['Cust_Origin'] == 2013]\n",
    "DataCust_2014 = Data_CLV[Data_CLV['Cust_Origin'] == 2014]\n",
    "DataCust_2015 = Data_CLV[Data_CLV['Cust_Origin'] == 2015]\n",
    "\n",
    "x0 = (DataCust_2010.groupby('TransacionYear')[['Amount']].sum()).cumsum()\n",
    "org_Cust10 = np.round(list(x0['Amount']),2)\n",
    "\n",
    "x1 = (DataCust_2011.groupby('TransacionYear')[['Amount']].sum()).cumsum()\n",
    "org_Cust11 = np.round(list(x1['Amount']),2)\n",
    "\n",
    "x2 = (DataCust_2012.groupby('TransacionYear')[['Amount']].sum()).cumsum()\n",
    "org_Cust12 = np.round(list(x2['Amount']),2)\n",
    "\n",
    "x3 = (DataCust_2013.groupby('TransacionYear')[['Amount']].sum()).cumsum()\n",
    "org_Cust13 = np.round(list(x3['Amount']),2)\n",
    "\n",
    "x4 = (DataCust_2014.groupby('TransacionYear')[['Amount']].sum()).cumsum()\n",
    "org_Cust14 = np.round(list(x4['Amount']),2)\n",
    "\n",
    "x5 = (DataCust_2015.groupby('TransacionYear')[['Amount']].sum()).cumsum()\n",
    "org_Cust15 = np.round(list(x5['Amount']),2)\n",
    "\n",
    "#Creating the cumultaive amount table\n",
    "temp_list1 = [org_Cust10, org_Cust11, org_Cust12, org_Cust13, org_Cust14, org_Cust15]\n",
    "months1 = ['12','24','36','48','60','72']\n",
    "Amount_Cmltv = pd.DataFrame(temp_list1, columns = months1)\n",
    "Amount_Cmltv = Amount_Cmltv.fillna(0)\n",
    "Origin = ['2010-01-01 - 2010-12-31','2011-01-01 - 2011-12-31','2012-01-01 - 2012-12-31','2013-01-01 - 2013-12-31','2014-01-01 - 2014-12-31','2015-01-01 - 2015-12-31']\n",
    "Amount_Cmltv['Origin'] = Origin\n",
    "Amount_Cmltv = Amount_Cmltv.set_index('Origin')\n",
    "\n",
    "print(\"The cumulative amount table is as follows: \")\n",
    "Amount_Cmltv"
   ]
  },
  {
   "cell_type": "markdown",
   "metadata": {},
   "source": [
    "# Step 5: Calculate new customers per year"
   ]
  },
  {
   "cell_type": "code",
   "execution_count": 13,
   "metadata": {},
   "outputs": [
    {
     "name": "stdout",
     "output_type": "stream",
     "text": [
      "The total new acquired customers for each year is as follows:\n"
     ]
    },
    {
     "data": {
      "text/html": [
       "<div>\n",
       "<style scoped>\n",
       "    .dataframe tbody tr th:only-of-type {\n",
       "        vertical-align: middle;\n",
       "    }\n",
       "\n",
       "    .dataframe tbody tr th {\n",
       "        vertical-align: top;\n",
       "    }\n",
       "\n",
       "    .dataframe thead th {\n",
       "        text-align: right;\n",
       "    }\n",
       "</style>\n",
       "<table border=\"1\" class=\"dataframe\">\n",
       "  <thead>\n",
       "    <tr style=\"text-align: right;\">\n",
       "      <th></th>\n",
       "      <th>12</th>\n",
       "      <th>24</th>\n",
       "      <th>36</th>\n",
       "      <th>48</th>\n",
       "      <th>60</th>\n",
       "      <th>72</th>\n",
       "    </tr>\n",
       "    <tr>\n",
       "      <th>Origin</th>\n",
       "      <th></th>\n",
       "      <th></th>\n",
       "      <th></th>\n",
       "      <th></th>\n",
       "      <th></th>\n",
       "      <th></th>\n",
       "    </tr>\n",
       "  </thead>\n",
       "  <tbody>\n",
       "    <tr>\n",
       "      <th>2010-01-01 - 2010-12-31</th>\n",
       "      <td>172</td>\n",
       "      <td>172.0</td>\n",
       "      <td>172.0</td>\n",
       "      <td>172.0</td>\n",
       "      <td>172.0</td>\n",
       "      <td>172.0</td>\n",
       "    </tr>\n",
       "    <tr>\n",
       "      <th>2011-01-01 - 2011-12-31</th>\n",
       "      <td>170</td>\n",
       "      <td>170.0</td>\n",
       "      <td>170.0</td>\n",
       "      <td>170.0</td>\n",
       "      <td>170.0</td>\n",
       "      <td>0.0</td>\n",
       "    </tr>\n",
       "    <tr>\n",
       "      <th>2012-01-01 - 2012-12-31</th>\n",
       "      <td>163</td>\n",
       "      <td>163.0</td>\n",
       "      <td>163.0</td>\n",
       "      <td>163.0</td>\n",
       "      <td>0.0</td>\n",
       "      <td>0.0</td>\n",
       "    </tr>\n",
       "    <tr>\n",
       "      <th>2013-01-01 - 2013-12-31</th>\n",
       "      <td>180</td>\n",
       "      <td>180.0</td>\n",
       "      <td>180.0</td>\n",
       "      <td>0.0</td>\n",
       "      <td>0.0</td>\n",
       "      <td>0.0</td>\n",
       "    </tr>\n",
       "    <tr>\n",
       "      <th>2014-01-01 - 2014-12-31</th>\n",
       "      <td>155</td>\n",
       "      <td>155.0</td>\n",
       "      <td>0.0</td>\n",
       "      <td>0.0</td>\n",
       "      <td>0.0</td>\n",
       "      <td>0.0</td>\n",
       "    </tr>\n",
       "    <tr>\n",
       "      <th>2015-01-01 - 2015-12-31</th>\n",
       "      <td>160</td>\n",
       "      <td>0.0</td>\n",
       "      <td>0.0</td>\n",
       "      <td>0.0</td>\n",
       "      <td>0.0</td>\n",
       "      <td>0.0</td>\n",
       "    </tr>\n",
       "  </tbody>\n",
       "</table>\n",
       "</div>"
      ],
      "text/plain": [
       "                          12     24     36     48     60     72\n",
       "Origin                                                         \n",
       "2010-01-01 - 2010-12-31  172  172.0  172.0  172.0  172.0  172.0\n",
       "2011-01-01 - 2011-12-31  170  170.0  170.0  170.0  170.0    0.0\n",
       "2012-01-01 - 2012-12-31  163  163.0  163.0  163.0    0.0    0.0\n",
       "2013-01-01 - 2013-12-31  180  180.0  180.0    0.0    0.0    0.0\n",
       "2014-01-01 - 2014-12-31  155  155.0    0.0    0.0    0.0    0.0\n",
       "2015-01-01 - 2015-12-31  160    0.0    0.0    0.0    0.0    0.0"
      ]
     },
     "execution_count": 13,
     "metadata": {},
     "output_type": "execute_result"
    }
   ],
   "source": [
    "#Calcualting total new customers orignated in all five years\n",
    "\n",
    "y0 = DataCust_2010.groupby('TransacionYear')[['CustomerID']].nunique()\n",
    "new_cust10 =  np.array([y0['CustomerID'].iloc[0] for i in range(DataCust_2010['TransacionYear'].nunique())])\n",
    "\n",
    "y1 = DataCust_2011.groupby('TransacionYear')[['CustomerID']].nunique()\n",
    "new_cust11 =  np.array([y1['CustomerID'].iloc[0] for i in range(DataCust_2011['TransacionYear'].nunique())])\n",
    "\n",
    "y2 = DataCust_2012.groupby('TransacionYear')[['CustomerID']].nunique()\n",
    "new_cust12 =  np.array([y2['CustomerID'].iloc[0] for i in range(DataCust_2012['TransacionYear'].nunique())])\n",
    "\n",
    "y3 = DataCust_2013.groupby('TransacionYear')[['CustomerID']].nunique()\n",
    "new_cust13 =  np.array([y3['CustomerID'].iloc[0] for i in range(DataCust_2013['TransacionYear'].nunique())])\n",
    "\n",
    "y4 = DataCust_2014.groupby('TransacionYear')[['CustomerID']].nunique()\n",
    "new_cust14 =  np.array([y4['CustomerID'].iloc[0] for i in range(DataCust_2014['TransacionYear'].nunique())])\n",
    "\n",
    "y5 = DataCust_2015.groupby('TransacionYear')[['CustomerID']].nunique()\n",
    "new_cust15 =  np.array([y5['CustomerID'].iloc[0] for i in range(DataCust_2015['TransacionYear'].nunique())])\n",
    "\n",
    "#Creating the new customer table\n",
    "temp2_list = [new_cust10, new_cust11, new_cust12, new_cust13, new_cust14, new_cust15]\n",
    "months = ['12','24','36','48','60','72']\n",
    "Origin = ['2010-01-01 - 2010-12-31','2011-01-01 - 2011-12-31','2012-01-01 - 2012-12-31','2013-01-01 - 2013-12-31','2014-01-01 - 2014-12-31','2015-01-01 - 2015-12-31']\n",
    "new_customers = pd.DataFrame(temp2_list, columns = months)\n",
    "new_customers = new_customers.fillna(0)\n",
    "new_customers['Origin'] = Origin\n",
    "new_customers = new_customers.set_index('Origin')\n",
    "print(\"The total new acquired customers for each year is as follows:\")\n",
    "new_customers"
   ]
  },
  {
   "cell_type": "markdown",
   "metadata": {},
   "source": [
    "# Step 6: Historic CLV - Finding Weighted CLV"
   ]
  },
  {
   "cell_type": "code",
   "execution_count": 14,
   "metadata": {},
   "outputs": [
    {
     "name": "stdout",
     "output_type": "stream",
     "text": [
      "Historic CLV amounts for each customer origin group is as follows:\n"
     ]
    },
    {
     "data": {
      "text/html": [
       "<div>\n",
       "<style scoped>\n",
       "    .dataframe tbody tr th:only-of-type {\n",
       "        vertical-align: middle;\n",
       "    }\n",
       "\n",
       "    .dataframe tbody tr th {\n",
       "        vertical-align: top;\n",
       "    }\n",
       "\n",
       "    .dataframe thead th {\n",
       "        text-align: right;\n",
       "    }\n",
       "</style>\n",
       "<table border=\"1\" class=\"dataframe\">\n",
       "  <thead>\n",
       "    <tr style=\"text-align: right;\">\n",
       "      <th></th>\n",
       "      <th>12</th>\n",
       "      <th>24</th>\n",
       "      <th>36</th>\n",
       "      <th>48</th>\n",
       "      <th>60</th>\n",
       "      <th>72</th>\n",
       "    </tr>\n",
       "    <tr>\n",
       "      <th>Origin</th>\n",
       "      <th></th>\n",
       "      <th></th>\n",
       "      <th></th>\n",
       "      <th></th>\n",
       "      <th></th>\n",
       "      <th></th>\n",
       "    </tr>\n",
       "  </thead>\n",
       "  <tbody>\n",
       "    <tr>\n",
       "      <th>2010-01-01 - 2010-12-31</th>\n",
       "      <td>13.14</td>\n",
       "      <td>21.02</td>\n",
       "      <td>30.67</td>\n",
       "      <td>38.56</td>\n",
       "      <td>46.11</td>\n",
       "      <td>52.12</td>\n",
       "    </tr>\n",
       "    <tr>\n",
       "      <th>2011-01-01 - 2011-12-31</th>\n",
       "      <td>13.17</td>\n",
       "      <td>22.11</td>\n",
       "      <td>32.15</td>\n",
       "      <td>39.43</td>\n",
       "      <td>46.25</td>\n",
       "      <td>0.00</td>\n",
       "    </tr>\n",
       "    <tr>\n",
       "      <th>2012-01-01 - 2012-12-31</th>\n",
       "      <td>13.38</td>\n",
       "      <td>23.77</td>\n",
       "      <td>32.07</td>\n",
       "      <td>39.89</td>\n",
       "      <td>0.00</td>\n",
       "      <td>0.00</td>\n",
       "    </tr>\n",
       "    <tr>\n",
       "      <th>2013-01-01 - 2013-12-31</th>\n",
       "      <td>12.11</td>\n",
       "      <td>20.05</td>\n",
       "      <td>29.04</td>\n",
       "      <td>0.00</td>\n",
       "      <td>0.00</td>\n",
       "      <td>0.00</td>\n",
       "    </tr>\n",
       "    <tr>\n",
       "      <th>2014-01-01 - 2014-12-31</th>\n",
       "      <td>11.81</td>\n",
       "      <td>21.05</td>\n",
       "      <td>0.00</td>\n",
       "      <td>0.00</td>\n",
       "      <td>0.00</td>\n",
       "      <td>0.00</td>\n",
       "    </tr>\n",
       "    <tr>\n",
       "      <th>2015-01-01 - 2015-12-31</th>\n",
       "      <td>11.95</td>\n",
       "      <td>0.00</td>\n",
       "      <td>0.00</td>\n",
       "      <td>0.00</td>\n",
       "      <td>0.00</td>\n",
       "      <td>0.00</td>\n",
       "    </tr>\n",
       "  </tbody>\n",
       "</table>\n",
       "</div>"
      ],
      "text/plain": [
       "                            12     24     36     48     60     72\n",
       "Origin                                                           \n",
       "2010-01-01 - 2010-12-31  13.14  21.02  30.67  38.56  46.11  52.12\n",
       "2011-01-01 - 2011-12-31  13.17  22.11  32.15  39.43  46.25   0.00\n",
       "2012-01-01 - 2012-12-31  13.38  23.77  32.07  39.89   0.00   0.00\n",
       "2013-01-01 - 2013-12-31  12.11  20.05  29.04   0.00   0.00   0.00\n",
       "2014-01-01 - 2014-12-31  11.81  21.05   0.00   0.00   0.00   0.00\n",
       "2015-01-01 - 2015-12-31  11.95   0.00   0.00   0.00   0.00   0.00"
      ]
     },
     "execution_count": 14,
     "metadata": {},
     "output_type": "execute_result"
    }
   ],
   "source": [
    "#Calculating Historic_CLV\n",
    "\n",
    "Historic_CLV = Amount_Cmltv / new_customers\n",
    "Historic_CLV = np.round(Historic_CLV.fillna(0), 2)\n",
    "\n",
    "print(\"Historic CLV amounts for each customer origin group is as follows:\")\n",
    "\n",
    "Historic_CLV"
   ]
  },
  {
   "cell_type": "code",
   "execution_count": 16,
   "metadata": {},
   "outputs": [
    {
     "data": {
      "image/png": "[encoded data removed]",
      "text/plain": [
       "<Figure size 432x288 with 1 Axes>"
      ]
     },
     "metadata": {
      "needs_background": "light"
     },
     "output_type": "display_data"
    }
   ],
   "source": [
    "#Plotting the results for each year on the same graph\n",
    "\n",
    "line1, = plt.plot(Historic_CLV.iloc[0], marker=\"+\")\n",
    "line2, = plt.plot(Historic_CLV.iloc[1 ,0:5], marker= \"*\")\n",
    "line3, = plt.plot(Historic_CLV.iloc[2 ,0:4], marker= \"o\")\n",
    "line4, = plt.plot(Historic_CLV.iloc[3 ,0:3], marker= \"x\")\n",
    "line5, = plt.plot(Historic_CLV.iloc[4 ,0:2], marker= \"D\")\n",
    "line6, = plt.plot(Historic_CLV.iloc[5 ,0:1], marker= \"s\")\n",
    "\n",
    "plt.xlabel('Age')\n",
    "plt.xlabel('Historic CLV')\n",
    "plt.title(\"Age Vs Historic CLV \")\n",
    "\n",
    "plt.legend([line1, line2, line3, line4, line5, line6],\n",
    "           ['2010-01-01 - 2010-12-31','2011-01-01 - 2011-12-31','2012-01-01 - 2012-12-31',\n",
    "            '2013-01-01 - 2013-12-31','2014-01-01 - 2014-12-31','2015-01-01 - 2015-12-31'],\n",
    "           loc='lower right', prop={'size': 8}, title = \"Origin\")\n",
    "plt.grid()\n",
    "plt.show()"
   ]
  },
  {
   "cell_type": "markdown",
   "metadata": {},
   "source": [
    "# Step 7: Interpreting your results"
   ]
  },
  {
   "cell_type": "code",
   "execution_count": 17,
   "metadata": {},
   "outputs": [
    {
     "data": {
      "text/html": [
       "<div>\n",
       "<style scoped>\n",
       "    .dataframe tbody tr th:only-of-type {\n",
       "        vertical-align: middle;\n",
       "    }\n",
       "\n",
       "    .dataframe tbody tr th {\n",
       "        vertical-align: top;\n",
       "    }\n",
       "\n",
       "    .dataframe thead th {\n",
       "        text-align: right;\n",
       "    }\n",
       "</style>\n",
       "<table border=\"1\" class=\"dataframe\">\n",
       "  <thead>\n",
       "    <tr style=\"text-align: right;\">\n",
       "      <th></th>\n",
       "      <th>Historic CLV</th>\n",
       "    </tr>\n",
       "    <tr>\n",
       "      <th>Age</th>\n",
       "      <th></th>\n",
       "    </tr>\n",
       "  </thead>\n",
       "  <tbody>\n",
       "    <tr>\n",
       "      <th>12</th>\n",
       "      <td>12.60</td>\n",
       "    </tr>\n",
       "    <tr>\n",
       "      <th>24</th>\n",
       "      <td>21.57</td>\n",
       "    </tr>\n",
       "    <tr>\n",
       "      <th>36</th>\n",
       "      <td>30.94</td>\n",
       "    </tr>\n",
       "    <tr>\n",
       "      <th>48</th>\n",
       "      <td>39.28</td>\n",
       "    </tr>\n",
       "    <tr>\n",
       "      <th>60</th>\n",
       "      <td>46.18</td>\n",
       "    </tr>\n",
       "    <tr>\n",
       "      <th>72</th>\n",
       "      <td>52.12</td>\n",
       "    </tr>\n",
       "  </tbody>\n",
       "</table>\n",
       "</div>"
      ],
      "text/plain": [
       "     Historic CLV\n",
       "Age              \n",
       "12          12.60\n",
       "24          21.57\n",
       "36          30.94\n",
       "48          39.28\n",
       "60          46.18\n",
       "72          52.12"
      ]
     },
     "execution_count": 17,
     "metadata": {},
     "output_type": "execute_result"
    }
   ],
   "source": [
    "#Calculating a volume-weighted average of the Historic CLV for each group at each Age\n",
    "\n",
    "t_new_customers = new_customers.transpose()\n",
    "t_Historic_CLV = Historic_CLV.transpose()\n",
    "\n",
    "final_ans = []\n",
    "\n",
    "for i in range(Data_CLV['Cust_Origin'].nunique()):\n",
    "    temp_array = np.array(t_Historic_CLV.iloc[i]) * np.array(t_new_customers.iloc[i])\n",
    "    temp_sum = np.sum(temp_array)\n",
    "    single_value = temp_sum / np.sum(np.array(t_new_customers.iloc[i]))\n",
    "    final_ans.append(np.round(single_value,2))\n",
    "\n",
    "df_grpCLV = pd.DataFrame (final_ans, columns = [\"Historic CLV\"])\n",
    "Age = ['12','24','36','48','60','72']\n",
    "\n",
    "df_grpCLV[\"Age\"] = Age\n",
    "df_grpCLV = df_grpCLV.set_index('Age')\n",
    "df_grpCLV"
   ]
  },
  {
   "cell_type": "markdown",
   "metadata": {},
   "source": [
    "How much have customers acquired in 2011 spent to date?\n",
    "\n",
    "Ans: Total spend by Customers acquired in 2011 till date is $7862.24"
   ]
  },
  {
   "cell_type": "markdown",
   "metadata": {},
   "source": [
    "Do each group of customers exhibit similar or different patterns of spending?\n",
    "What’s the implication for the business?\n",
    "\n",
    "Ans: According to data, each group of customers exhibit similarpatterns of spending. The business impact is the revenue from each customers will keep going up till customer is an active member of the business"
   ]
  }
 ],
 "metadata": {
  "kernelspec": {
   "display_name": "Python 3",
   "language": "python",
   "name": "python3"
  },
  "language_info": {
   "codemirror_mode": {
    "name": "ipython",
    "version": 3
   },
   "file_extension": ".py",
   "mimetype": "text/x-python",
   "name": "python",
   "nbconvert_exporter": "python",
   "pygments_lexer": "ipython3",
   "version": "3.7.3"
  }
 },
 "nbformat": 4,
 "nbformat_minor": 2
}
